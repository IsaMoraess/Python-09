{
 "cells": [
  {
   "cell_type": "markdown",
   "id": "58c34be7",
   "metadata": {},
   "source": [
    "# Lista Comprehension\n",
    "\n",
    "[expressao for item in interable if condiçao==True]"
   ]
  },
  {
   "cell_type": "code",
   "execution_count": 1,
   "id": "6cd1f471",
   "metadata": {},
   "outputs": [
    {
     "data": {
      "text/plain": [
       "[0, 1, 2, 3, 4, 5, 6, 7, 8, 9]"
      ]
     },
     "execution_count": 1,
     "metadata": {},
     "output_type": "execute_result"
    }
   ],
   "source": [
    "# List Comprehension que imprime os numeros ate 10\n",
    "[x for x in range(10)]"
   ]
  },
  {
   "cell_type": "code",
   "execution_count": 2,
   "id": "1ba81cbf",
   "metadata": {},
   "outputs": [],
   "source": [
    "# List Comprehension que imprime os numeros ate 1, e gravava em uma lista Python\n",
    "lista_numeros = [x for x in range(10)]"
   ]
  },
  {
   "cell_type": "code",
   "execution_count": 3,
   "id": "56d189d6",
   "metadata": {},
   "outputs": [
    {
     "name": "stdout",
     "output_type": "stream",
     "text": [
      "[0, 1, 2, 3, 4, 5, 6, 7, 8, 9]\n"
     ]
    }
   ],
   "source": [
    "print(lista_numeros)"
   ]
  },
  {
   "cell_type": "code",
   "execution_count": 4,
   "id": "c41483a0",
   "metadata": {},
   "outputs": [
    {
     "name": "stdout",
     "output_type": "stream",
     "text": [
      "[0, 1, 2, 3, 4]\n"
     ]
    }
   ],
   "source": [
    "# List Comprehension que imprime os numeros menos que 5 em um intervalo de 1 a 10\n",
    "lista_numeros = [x for x in range(10) if x < 5]\n",
    "print(lista_numeros)"
   ]
  },
  {
   "cell_type": "code",
   "execution_count": 8,
   "id": "e5ffe428",
   "metadata": {},
   "outputs": [],
   "source": [
    "# Lista de frutas\n",
    "lista_frutas = [\"Banana\", \"Abacate\", \"Melancia\", \"Cereja\", \"Manga\"]\n",
    "\n",
    "#Nova lista\n",
    "nova_lista = []"
   ]
  },
  {
   "cell_type": "code",
   "execution_count": 9,
   "id": "3626ceee",
   "metadata": {},
   "outputs": [
    {
     "name": "stdout",
     "output_type": "stream",
     "text": [
      "['Melancia', 'Manga']\n"
     ]
    }
   ],
   "source": [
    "# Loop tradicional para buscar as palavras com letra \"m\"\n",
    "for x in lista_frutas:\n",
    "    if \"M\" in x:\n",
    "        nova_lista.append(x)\n",
    "        \n",
    "print(nova_lista)"
   ]
  },
  {
   "cell_type": "code",
   "execution_count": 10,
   "id": "35bbf1a9",
   "metadata": {},
   "outputs": [
    {
     "name": "stdout",
     "output_type": "stream",
     "text": [
      "['Melancia', 'Manga']\n"
     ]
    }
   ],
   "source": [
    "# Mesmo resultado anterior mais com List Comprehension\n",
    "nova_lista = [x for x in lista_frutas if \"M\" in x]\n",
    "print(nova_lista)"
   ]
  },
  {
   "cell_type": "code",
   "execution_count": 11,
   "id": "ac64224a",
   "metadata": {},
   "outputs": [
    {
     "name": "stdout",
     "output_type": "stream",
     "text": [
      "{'Bob': 68, 'Michael': 84, 'Zico': 57, 'Ana': 93}\n"
     ]
    }
   ],
   "source": [
    "# Dict Comprehension\n",
    "\n",
    "# Dicionario de alunos e notas\n",
    "dict_alunos = {'Bob': 68, 'Michael': 84, 'Zico': 57, 'Ana': 93}\n",
    "\n",
    "# Criamos uma novo dicionario imprimindo ps pares de chave:valor\n",
    "dict_alunos_status = {k:v for (k,v) in dict_alunos.items()}\n",
    "print(dict_alunos_status)"
   ]
  },
  {
   "cell_type": "code",
   "execution_count": 13,
   "id": "8b4838d5",
   "metadata": {},
   "outputs": [
    {
     "name": "stdout",
     "output_type": "stream",
     "text": [
      "{'Bob': 'Reprovado', 'Michael': 'Aprovado', 'Zico': 'Reprovado', 'Ana': 'Aprovado'}\n"
     ]
    }
   ],
   "source": [
    "# Dict Comprehension\n",
    "\n",
    "# Dicionario de alunos e notas\n",
    "dict_alunos = {'Bob': 68, 'Michael': 84, 'Zico': 57, 'Ana': 93}\n",
    "\n",
    "# Crianodo um novo dicionario com  status: nota maior que 70, aprovado se nao reprovado\n",
    "dict_alunos_status = {k:('Aprovado' if v > 70 else 'Reprovado' ) for (k,v) in dict_alunos.items()}\n",
    "print(dict_alunos_status)"
   ]
  },
  {
   "cell_type": "markdown",
   "id": "9a0aa9ed",
   "metadata": {},
   "source": [
    "# Fim"
   ]
  }
 ],
 "metadata": {
  "kernelspec": {
   "display_name": "Python 3 (ipykernel)",
   "language": "python",
   "name": "python3"
  },
  "language_info": {
   "codemirror_mode": {
    "name": "ipython",
    "version": 3
   },
   "file_extension": ".py",
   "mimetype": "text/x-python",
   "name": "python",
   "nbconvert_exporter": "python",
   "pygments_lexer": "ipython3",
   "version": "3.9.13"
  }
 },
 "nbformat": 4,
 "nbformat_minor": 5
}
